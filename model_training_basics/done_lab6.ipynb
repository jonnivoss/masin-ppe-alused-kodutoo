{
  "cells": [
    {
      "cell_type": "markdown",
      "metadata": {
        "id": "x4HI2mpwlrcn"
      },
      "source": [
        "##### Copyright 2019 The TensorFlow Authors."
      ]
    },
    {
      "cell_type": "code",
      "execution_count": null,
      "metadata": {
        "cellView": "form",
        "id": "679Lmwt3l1Bk"
      },
      "outputs": [],
      "source": [
        "#@title Licensed under the Apache License, Version 2.0 (the \"License\");\n",
        "# you may not use this file except in compliance with the License.\n",
        "# You may obtain a copy of the License at\n",
        "#\n",
        "# https://www.apache.org/licenses/LICENSE-2.0\n",
        "#\n",
        "# Unless required by applicable law or agreed to in writing, software\n",
        "# distributed under the License is distributed on an \"AS IS\" BASIS,\n",
        "# WITHOUT WARRANTIES OR CONDITIONS OF ANY KIND, either express or implied.\n",
        "# See the License for the specific language governing permissions and\n",
        "# limitations under the License."
      ]
    },
    {
      "cell_type": "markdown",
      "metadata": {
        "id": "DSPCom-KmApV"
      },
      "source": [
        "# What does a neural network learn?"
      ]
    },
    {
      "cell_type": "markdown",
      "metadata": {
        "id": "PslnzB4Y0xPo"
      },
      "source": [
        "### Setting up"
      ]
    },
    {
      "cell_type": "markdown",
      "source": [
        "**Notebook setup**. Select the \"Edit\" menu, then \"Notebook settings\". Choose \"GPU\" as the hardware accelerator. Check that \"Omit code cell output...\" is unchecked (so that the output is saved).\n",
        "\n",
        "**Upload dataset** Select the folder icon from the left sidebar menu. Click the upload button and select the file \"lab6data.zip\" from your computer.\n",
        "\n",
        "![upload2.jpg](data:image/jpeg;base64,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)"
      ],
      "metadata": {
        "id": "o5O0p0HC03C5"
      }
    },
    {
      "cell_type": "markdown",
      "metadata": {
        "id": "jRFxccghyMVo"
      },
      "source": [
        "### Extract the dataset"
      ]
    },
    {
      "cell_type": "code",
      "source": [
        "!unzip lab6data.zip"
      ],
      "metadata": {
        "id": "AFkV6atu6HGi"
      },
      "execution_count": null,
      "outputs": []
    },
    {
      "cell_type": "code",
      "source": [
        "from PIL import Image\n",
        "im = Image.open(\"lab6/train/Cat/161.jpg\")\n",
        "display(im)"
      ],
      "metadata": {
        "id": "dZy6e26-73QY",
        "colab": {
          "base_uri": "https://localhost:8080/",
          "height": 81
        },
        "outputId": "7cf4e678-2177-4a17-a3d0-281045054c26"
      },
      "execution_count": null,
      "outputs": [
        {
          "output_type": "display_data",
          "data": {
            "text/plain": [
              "<PIL.JpegImagePlugin.JpegImageFile image mode=RGB size=64x64>"
            ],
            "image/png": "[encoded data removed]"
          },
          "metadata": {}
        }
      ]
    },
    {
      "cell_type": "markdown",
      "metadata": {
        "id": "m7KBpffWzlxH"
      },
      "source": [
        "### Import TensorFlow"
      ]
    },
    {
      "cell_type": "code",
      "execution_count": null,
      "metadata": {
        "id": "iAve6DCL4JH4"
      },
      "outputs": [],
      "source": [
        "import tensorflow as tf\n",
        "\n",
        "from tensorflow.keras import layers, models\n"
      ]
    },
    {
      "cell_type": "markdown",
      "source": [
        "### Prepare the dataset for Keras"
      ],
      "metadata": {
        "id": "PiYi9Rtt-JA5"
      }
    },
    {
      "cell_type": "code",
      "source": [
        "train_ds = tf.keras.preprocessing.image_dataset_from_directory(\"lab6/train\",\n",
        "    label_mode=\"categorical\",\n",
        "    color_mode=\"rgb\",\n",
        "    batch_size=32,\n",
        "    image_size=(64, 64))"
      ],
      "metadata": {
        "id": "BIRVWB6F-QM3",
        "colab": {
          "base_uri": "https://localhost:8080/"
        },
        "outputId": "e2c4b7fe-ba23-43d7-c60f-68c7ca036ba7"
      },
      "execution_count": null,
      "outputs": [
        {
          "output_type": "stream",
          "name": "stdout",
          "text": [
            "Found 1800 files belonging to 2 classes.\n"
          ]
        }
      ]
    },
    {
      "cell_type": "code",
      "source": [
        "test_ds = tf.keras.preprocessing.image_dataset_from_directory(\"lab6/test\",\n",
        "    label_mode=\"categorical\",\n",
        "    color_mode=\"rgb\",\n",
        "    batch_size=32,\n",
        "    image_size=(64, 64))"
      ],
      "metadata": {
        "id": "ZLnFVowvBgkN",
        "colab": {
          "base_uri": "https://localhost:8080/"
        },
        "outputId": "e1f1f882-8f87-4389-8e62-cc23639b0f06"
      },
      "execution_count": null,
      "outputs": [
        {
          "output_type": "stream",
          "name": "stdout",
          "text": [
            "Found 200 files belonging to 2 classes.\n"
          ]
        }
      ]
    },
    {
      "cell_type": "markdown",
      "metadata": {
        "id": "Oewp-wYg31t9"
      },
      "source": [
        "### Experiment 1: train a model from scratch"
      ]
    },
    {
      "cell_type": "markdown",
      "metadata": {
        "id": "3hQvqXpNyN3x"
      },
      "source": [
        "Follow the instructions in moodle. You can start adding code in cells below and running them by pressing the forward arrow button in the corner. Add more cells as needed."
      ]
    },
    {
      "cell_type": "code",
      "execution_count": null,
      "metadata": {
        "id": "L9YmGQBQPrdn"
      },
      "outputs": [],
      "source": [
        "def make_cnn_model():\n",
        "    model = models.Sequential()\n",
        "    model.add(layers.Conv2D(32, (3, 3), activation='relu', input_shape=(64, 64, 3)))\n",
        "    model.add(layers.MaxPooling2D((2, 2)))\n",
        "    model.add(layers.Conv2D(64, (3, 3), activation='relu'))\n",
        "    model.add(layers.MaxPooling2D((2, 2)))\n",
        "    model.add(layers.Conv2D(64, (3, 3), activation='relu'))\n",
        "    model.add(layers.Flatten())\n",
        "    model.add(layers.Dense(64, activation='relu'))\n",
        "    model.add(layers.Dense(2))\n",
        "    return model"
      ]
    },
    {
      "cell_type": "code",
      "execution_count": null,
      "metadata": {
        "id": "8Yu_m-TZUWGX"
      },
      "outputs": [],
      "source": [
        "model = make_cnn_model()"
      ]
    },
    {
      "cell_type": "code",
      "source": [
        "model.compile(optimizer=\"adam\",\n",
        "              loss=tf.keras.losses.CategoricalCrossentropy(from_logits=True),\n",
        "              metrics=[\"accuracy\"])\n",
        "history = model.fit(train_ds, epochs=15)"
      ],
      "metadata": {
        "id": "1SxZ3VmQNnfE"
      },
      "execution_count": null,
      "outputs": []
    },
    {
      "cell_type": "code",
      "source": [
        "test_loss, test_acc = model.evaluate(test_ds, verbose=2)\n",
        "print(test_acc)"
      ],
      "metadata": {
        "colab": {
          "base_uri": "https://localhost:8080/"
        },
        "id": "0aPm2dw6N0L9",
        "outputId": "7b6b57ab-d65f-4804-8f06-1d3347859eac"
      },
      "execution_count": null,
      "outputs": [
        {
          "output_type": "stream",
          "name": "stdout",
          "text": [
            "7/7 - 0s - loss: 0.6931 - accuracy: 0.5000 - 176ms/epoch - 25ms/step\n",
            "0.5\n"
          ]
        }
      ]
    },
    {
      "cell_type": "markdown",
      "source": [
        "Q1: What was the result (average accuracy of classifying cats and dogs in experiment 1)? Explain or comment the result. [it was 50% and the loss was 69%]"
      ],
      "metadata": {
        "id": "EPvQeHUZTesG"
      }
    },
    {
      "cell_type": "markdown",
      "metadata": {
        "id": "8cfJ8AR03gT5"
      },
      "source": [
        "### Experiment 2: side channel data"
      ]
    },
    {
      "cell_type": "code",
      "source": [
        "!mkdir -p lab6/train2/Cat lab6/train2/Dog lab6/test2/Cat lab6/test2/Dog"
      ],
      "metadata": {
        "id": "mYigv5KCTMHl"
      },
      "execution_count": 4,
      "outputs": []
    },
    {
      "cell_type": "code",
      "source": [
        "import os\n",
        "import os.path\n",
        "from PIL import ImageDraw\n",
        "\n",
        "def inject_text(ipath, opath, text):\n",
        "    files = os.listdir(ipath)\n",
        "    for fn in files:\n",
        "        src = os.path.join(ipath, os.path.basename(fn))\n",
        "        dest = os.path.join(opath, os.path.basename(fn))\n",
        "        im = Image.open(src)\n",
        "        canvas = ImageDraw.Draw(im)\n",
        "        canvas.text((3,3), text, fill=(255, 0, 0))\n",
        "        im.save(dest)"
      ],
      "metadata": {
        "id": "9I8os95fT-34"
      },
      "execution_count": 10,
      "outputs": []
    },
    {
      "cell_type": "code",
      "source": [
        "inject_text(\"lab6/train/Cat\", \"lab6/train2/Cat\", \"Cat\")\n",
        "inject_text(\"lab6/train/Dog\", \"lab6/train2/Dog\", \"Dog\")\n",
        "inject_text(\"lab6/test/Cat\", \"lab6/test2/Cat\", \"Cat\")\n",
        "inject_text(\"lab6/test/Dog\", \"lab6/test2/Dog\", \"Dog\")\n",
        "im = Image.open(\"lab6/train2/Cat/161.jpg\")\n",
        "display(im)"
      ],
      "metadata": {
        "colab": {
          "base_uri": "https://localhost:8080/",
          "height": 366
        },
        "id": "BVUu0DUC4sMj",
        "outputId": "37f13c45-2371-4e76-cce5-78be290b73d1"
      },
      "execution_count": 9,
      "outputs": [
        {
          "output_type": "error",
          "ename": "NameError",
          "evalue": "ignored",
          "traceback": [
            "\u001b[0;31m---------------------------------------------------------------------------\u001b[0m",
            "\u001b[0;31mNameError\u001b[0m                                 Traceback (most recent call last)",
            "\u001b[0;32m<ipython-input-9-66532d8a7445>\u001b[0m in \u001b[0;36m<cell line: 1>\u001b[0;34m()\u001b[0m\n\u001b[0;32m----> 1\u001b[0;31m \u001b[0minject_text\u001b[0m\u001b[0;34m(\u001b[0m\u001b[0;34m\"lab6/train/Cat\"\u001b[0m\u001b[0;34m,\u001b[0m \u001b[0;34m\"lab6/train2/Cat\"\u001b[0m\u001b[0;34m,\u001b[0m \u001b[0;34m\"Cat\"\u001b[0m\u001b[0;34m)\u001b[0m\u001b[0;34m\u001b[0m\u001b[0;34m\u001b[0m\u001b[0m\n\u001b[0m\u001b[1;32m      2\u001b[0m \u001b[0minject_text\u001b[0m\u001b[0;34m(\u001b[0m\u001b[0;34m\"lab6/train/Dog\"\u001b[0m\u001b[0;34m,\u001b[0m \u001b[0;34m\"lab6/train2/Dog\"\u001b[0m\u001b[0;34m,\u001b[0m \u001b[0;34m\"Dog\"\u001b[0m\u001b[0;34m)\u001b[0m\u001b[0;34m\u001b[0m\u001b[0;34m\u001b[0m\u001b[0m\n\u001b[1;32m      3\u001b[0m \u001b[0minject_text\u001b[0m\u001b[0;34m(\u001b[0m\u001b[0;34m\"lab6/test/Cat\"\u001b[0m\u001b[0;34m,\u001b[0m \u001b[0;34m\"lab6/test2/Cat\"\u001b[0m\u001b[0;34m,\u001b[0m \u001b[0;34m\"Cat\"\u001b[0m\u001b[0;34m)\u001b[0m\u001b[0;34m\u001b[0m\u001b[0;34m\u001b[0m\u001b[0m\n\u001b[1;32m      4\u001b[0m \u001b[0minject_text\u001b[0m\u001b[0;34m(\u001b[0m\u001b[0;34m\"lab6/test/Dog\"\u001b[0m\u001b[0;34m,\u001b[0m \u001b[0;34m\"lab6/test2/Dog\"\u001b[0m\u001b[0;34m,\u001b[0m \u001b[0;34m\"Dog\"\u001b[0m\u001b[0;34m)\u001b[0m\u001b[0;34m\u001b[0m\u001b[0;34m\u001b[0m\u001b[0m\n\u001b[1;32m      5\u001b[0m \u001b[0mim\u001b[0m \u001b[0;34m=\u001b[0m \u001b[0mImage\u001b[0m\u001b[0;34m.\u001b[0m\u001b[0mopen\u001b[0m\u001b[0;34m(\u001b[0m\u001b[0;34m\"lab6/train2/Cat/161.jpg\"\u001b[0m\u001b[0;34m)\u001b[0m\u001b[0;34m\u001b[0m\u001b[0;34m\u001b[0m\u001b[0m\n",
            "\u001b[0;32m<ipython-input-2-5a907d3da350>\u001b[0m in \u001b[0;36minject_text\u001b[0;34m(ipath, opath, text)\u001b[0m\n\u001b[1;32m      8\u001b[0m         \u001b[0msrc\u001b[0m \u001b[0;34m=\u001b[0m \u001b[0mos\u001b[0m\u001b[0;34m.\u001b[0m\u001b[0mpath\u001b[0m\u001b[0;34m.\u001b[0m\u001b[0mjoin\u001b[0m\u001b[0;34m(\u001b[0m\u001b[0mipath\u001b[0m\u001b[0;34m,\u001b[0m \u001b[0mos\u001b[0m\u001b[0;34m.\u001b[0m\u001b[0mpath\u001b[0m\u001b[0;34m.\u001b[0m\u001b[0mbasename\u001b[0m\u001b[0;34m(\u001b[0m\u001b[0mfn\u001b[0m\u001b[0;34m)\u001b[0m\u001b[0;34m)\u001b[0m\u001b[0;34m\u001b[0m\u001b[0;34m\u001b[0m\u001b[0m\n\u001b[1;32m      9\u001b[0m         \u001b[0mdest\u001b[0m \u001b[0;34m=\u001b[0m \u001b[0mos\u001b[0m\u001b[0;34m.\u001b[0m\u001b[0mpath\u001b[0m\u001b[0;34m.\u001b[0m\u001b[0mjoin\u001b[0m\u001b[0;34m(\u001b[0m\u001b[0mopath\u001b[0m\u001b[0;34m,\u001b[0m \u001b[0mos\u001b[0m\u001b[0;34m.\u001b[0m\u001b[0mpath\u001b[0m\u001b[0;34m.\u001b[0m\u001b[0mbasename\u001b[0m\u001b[0;34m(\u001b[0m\u001b[0mfn\u001b[0m\u001b[0;34m)\u001b[0m\u001b[0;34m)\u001b[0m\u001b[0;34m\u001b[0m\u001b[0;34m\u001b[0m\u001b[0m\n\u001b[0;32m---> 10\u001b[0;31m         \u001b[0mim\u001b[0m \u001b[0;34m=\u001b[0m \u001b[0mImage\u001b[0m\u001b[0;34m.\u001b[0m\u001b[0mopen\u001b[0m\u001b[0;34m(\u001b[0m\u001b[0msrc\u001b[0m\u001b[0;34m)\u001b[0m\u001b[0;34m\u001b[0m\u001b[0;34m\u001b[0m\u001b[0m\n\u001b[0m\u001b[1;32m     11\u001b[0m         \u001b[0mcanvas\u001b[0m \u001b[0;34m=\u001b[0m \u001b[0mImageDraw\u001b[0m\u001b[0;34m.\u001b[0m\u001b[0mDraw\u001b[0m\u001b[0;34m(\u001b[0m\u001b[0mim\u001b[0m\u001b[0;34m)\u001b[0m\u001b[0;34m\u001b[0m\u001b[0;34m\u001b[0m\u001b[0m\n\u001b[1;32m     12\u001b[0m         \u001b[0mcanvas\u001b[0m\u001b[0;34m.\u001b[0m\u001b[0mtext\u001b[0m\u001b[0;34m(\u001b[0m\u001b[0;34m(\u001b[0m\u001b[0;36m3\u001b[0m\u001b[0;34m,\u001b[0m\u001b[0;36m3\u001b[0m\u001b[0;34m)\u001b[0m\u001b[0;34m,\u001b[0m \u001b[0mtext\u001b[0m\u001b[0;34m,\u001b[0m \u001b[0mfill\u001b[0m\u001b[0;34m=\u001b[0m\u001b[0;34m(\u001b[0m\u001b[0;36m255\u001b[0m\u001b[0;34m,\u001b[0m \u001b[0;36m0\u001b[0m\u001b[0;34m,\u001b[0m \u001b[0;36m0\u001b[0m\u001b[0;34m)\u001b[0m\u001b[0;34m)\u001b[0m\u001b[0;34m\u001b[0m\u001b[0;34m\u001b[0m\u001b[0m\n",
            "\u001b[0;31mNameError\u001b[0m: name 'Image' is not defined"
          ]
        }
      ]
    },
    {
      "cell_type": "code",
      "source": [
        "train_ds2 = tf.keras.preprocessing.image_dataset_from_directory(\"lab6/train2\",\n",
        "    label_mode=\"categorical\",\n",
        "    color_mode=\"rgb\",\n",
        "    batch_size=32,\n",
        "    image_size=(64, 64))\n",
        "test_ds2 = tf.keras.preprocessing.image_dataset_from_directory(\"lab6/test2\",\n",
        "    label_mode=\"categorical\",\n",
        "    color_mode=\"rgb\",\n",
        "    batch_size=32,\n",
        "    image_size=(64, 64))"
      ],
      "metadata": {
        "colab": {
          "base_uri": "https://localhost:8080/",
          "height": 262
        },
        "id": "VvSnm-j75ycv",
        "outputId": "21211048-a917-4764-e7a7-17c4c9f7d4ed"
      },
      "execution_count": 11,
      "outputs": [
        {
          "output_type": "error",
          "ename": "NameError",
          "evalue": "ignored",
          "traceback": [
            "\u001b[0;31m---------------------------------------------------------------------------\u001b[0m",
            "\u001b[0;31mNameError\u001b[0m                                 Traceback (most recent call last)",
            "\u001b[0;32m<ipython-input-11-704044f1b44b>\u001b[0m in \u001b[0;36m<cell line: 1>\u001b[0;34m()\u001b[0m\n\u001b[0;32m----> 1\u001b[0;31m train_ds2 = tf.keras.preprocessing.image_dataset_from_directory(\"lab6/train2\",\n\u001b[0m\u001b[1;32m      2\u001b[0m     \u001b[0mlabel_mode\u001b[0m\u001b[0;34m=\u001b[0m\u001b[0;34m\"categorical\"\u001b[0m\u001b[0;34m,\u001b[0m\u001b[0;34m\u001b[0m\u001b[0;34m\u001b[0m\u001b[0m\n\u001b[1;32m      3\u001b[0m     \u001b[0mcolor_mode\u001b[0m\u001b[0;34m=\u001b[0m\u001b[0;34m\"rgb\"\u001b[0m\u001b[0;34m,\u001b[0m\u001b[0;34m\u001b[0m\u001b[0;34m\u001b[0m\u001b[0m\n\u001b[1;32m      4\u001b[0m     \u001b[0mbatch_size\u001b[0m\u001b[0;34m=\u001b[0m\u001b[0;36m32\u001b[0m\u001b[0;34m,\u001b[0m\u001b[0;34m\u001b[0m\u001b[0;34m\u001b[0m\u001b[0m\n\u001b[1;32m      5\u001b[0m     image_size=(64, 64))\n",
            "\u001b[0;31mNameError\u001b[0m: name 'tf' is not defined"
          ]
        }
      ]
    },
    {
      "cell_type": "markdown",
      "source": [
        "Q2: What was the result after injecting \"hints\" into images? Explain or comment the result. [for some reason an error popped up: NameError and even when i reuploaded the files it didn't work, inject_text(\"lab6/train/Cat\", \"lab6/train2/Cat\", \"Cat\")]"
      ],
      "metadata": {
        "id": "D9iD0r3tZTIx"
      }
    },
    {
      "cell_type": "markdown",
      "source": [
        "### Experiment 3: adversarial data"
      ],
      "metadata": {
        "id": "CheihnZ-Ygon"
      }
    },
    {
      "cell_type": "code",
      "source": [
        "!mkdir -p lab6/test3/Cat lab6/test3/Dog"
      ],
      "metadata": {
        "id": "UvJ47uuOYmG8"
      },
      "execution_count": 12,
      "outputs": []
    },
    {
      "cell_type": "code",
      "source": [
        "inject_text(\"lab6/test/Cat\", \"lab6/test3/Cat\", \"Dog\")\n",
        "inject_text(\"lab6/test/Dog\", \"lab6/test3/Dog\", \"Cat\")\n",
        "im = Image.open(\"lab6/test3/Dog/10010.jpg\")\n",
        "display(im)"
      ],
      "metadata": {
        "colab": {
          "base_uri": "https://localhost:8080/",
          "height": 349
        },
        "id": "4i_NrqIL55jc",
        "outputId": "d7c8b880-1e44-4c9a-cbd2-c280eee1ca31"
      },
      "execution_count": 13,
      "outputs": [
        {
          "output_type": "error",
          "ename": "NameError",
          "evalue": "ignored",
          "traceback": [
            "\u001b[0;31m---------------------------------------------------------------------------\u001b[0m",
            "\u001b[0;31mNameError\u001b[0m                                 Traceback (most recent call last)",
            "\u001b[0;32m<ipython-input-13-205f42d38482>\u001b[0m in \u001b[0;36m<cell line: 1>\u001b[0;34m()\u001b[0m\n\u001b[0;32m----> 1\u001b[0;31m \u001b[0minject_text\u001b[0m\u001b[0;34m(\u001b[0m\u001b[0;34m\"lab6/test/Cat\"\u001b[0m\u001b[0;34m,\u001b[0m \u001b[0;34m\"lab6/test3/Cat\"\u001b[0m\u001b[0;34m,\u001b[0m \u001b[0;34m\"Dog\"\u001b[0m\u001b[0;34m)\u001b[0m\u001b[0;34m\u001b[0m\u001b[0;34m\u001b[0m\u001b[0m\n\u001b[0m\u001b[1;32m      2\u001b[0m \u001b[0minject_text\u001b[0m\u001b[0;34m(\u001b[0m\u001b[0;34m\"lab6/test/Dog\"\u001b[0m\u001b[0;34m,\u001b[0m \u001b[0;34m\"lab6/test3/Dog\"\u001b[0m\u001b[0;34m,\u001b[0m \u001b[0;34m\"Cat\"\u001b[0m\u001b[0;34m)\u001b[0m\u001b[0;34m\u001b[0m\u001b[0;34m\u001b[0m\u001b[0m\n\u001b[1;32m      3\u001b[0m \u001b[0mim\u001b[0m \u001b[0;34m=\u001b[0m \u001b[0mImage\u001b[0m\u001b[0;34m.\u001b[0m\u001b[0mopen\u001b[0m\u001b[0;34m(\u001b[0m\u001b[0;34m\"lab6/test3/Dog/10010.jpg\"\u001b[0m\u001b[0;34m)\u001b[0m\u001b[0;34m\u001b[0m\u001b[0;34m\u001b[0m\u001b[0m\n\u001b[1;32m      4\u001b[0m \u001b[0mdisplay\u001b[0m\u001b[0;34m(\u001b[0m\u001b[0mim\u001b[0m\u001b[0;34m)\u001b[0m\u001b[0;34m\u001b[0m\u001b[0;34m\u001b[0m\u001b[0m\n",
            "\u001b[0;32m<ipython-input-10-5a907d3da350>\u001b[0m in \u001b[0;36minject_text\u001b[0;34m(ipath, opath, text)\u001b[0m\n\u001b[1;32m      8\u001b[0m         \u001b[0msrc\u001b[0m \u001b[0;34m=\u001b[0m \u001b[0mos\u001b[0m\u001b[0;34m.\u001b[0m\u001b[0mpath\u001b[0m\u001b[0;34m.\u001b[0m\u001b[0mjoin\u001b[0m\u001b[0;34m(\u001b[0m\u001b[0mipath\u001b[0m\u001b[0;34m,\u001b[0m \u001b[0mos\u001b[0m\u001b[0;34m.\u001b[0m\u001b[0mpath\u001b[0m\u001b[0;34m.\u001b[0m\u001b[0mbasename\u001b[0m\u001b[0;34m(\u001b[0m\u001b[0mfn\u001b[0m\u001b[0;34m)\u001b[0m\u001b[0;34m)\u001b[0m\u001b[0;34m\u001b[0m\u001b[0;34m\u001b[0m\u001b[0m\n\u001b[1;32m      9\u001b[0m         \u001b[0mdest\u001b[0m \u001b[0;34m=\u001b[0m \u001b[0mos\u001b[0m\u001b[0;34m.\u001b[0m\u001b[0mpath\u001b[0m\u001b[0;34m.\u001b[0m\u001b[0mjoin\u001b[0m\u001b[0;34m(\u001b[0m\u001b[0mopath\u001b[0m\u001b[0;34m,\u001b[0m \u001b[0mos\u001b[0m\u001b[0;34m.\u001b[0m\u001b[0mpath\u001b[0m\u001b[0;34m.\u001b[0m\u001b[0mbasename\u001b[0m\u001b[0;34m(\u001b[0m\u001b[0mfn\u001b[0m\u001b[0;34m)\u001b[0m\u001b[0;34m)\u001b[0m\u001b[0;34m\u001b[0m\u001b[0;34m\u001b[0m\u001b[0m\n\u001b[0;32m---> 10\u001b[0;31m         \u001b[0mim\u001b[0m \u001b[0;34m=\u001b[0m \u001b[0mImage\u001b[0m\u001b[0;34m.\u001b[0m\u001b[0mopen\u001b[0m\u001b[0;34m(\u001b[0m\u001b[0msrc\u001b[0m\u001b[0;34m)\u001b[0m\u001b[0;34m\u001b[0m\u001b[0;34m\u001b[0m\u001b[0m\n\u001b[0m\u001b[1;32m     11\u001b[0m         \u001b[0mcanvas\u001b[0m \u001b[0;34m=\u001b[0m \u001b[0mImageDraw\u001b[0m\u001b[0;34m.\u001b[0m\u001b[0mDraw\u001b[0m\u001b[0;34m(\u001b[0m\u001b[0mim\u001b[0m\u001b[0;34m)\u001b[0m\u001b[0;34m\u001b[0m\u001b[0;34m\u001b[0m\u001b[0m\n\u001b[1;32m     12\u001b[0m         \u001b[0mcanvas\u001b[0m\u001b[0;34m.\u001b[0m\u001b[0mtext\u001b[0m\u001b[0;34m(\u001b[0m\u001b[0;34m(\u001b[0m\u001b[0;36m3\u001b[0m\u001b[0;34m,\u001b[0m\u001b[0;36m3\u001b[0m\u001b[0;34m)\u001b[0m\u001b[0;34m,\u001b[0m \u001b[0mtext\u001b[0m\u001b[0;34m,\u001b[0m \u001b[0mfill\u001b[0m\u001b[0;34m=\u001b[0m\u001b[0;34m(\u001b[0m\u001b[0;36m255\u001b[0m\u001b[0;34m,\u001b[0m \u001b[0;36m0\u001b[0m\u001b[0;34m,\u001b[0m \u001b[0;36m0\u001b[0m\u001b[0;34m)\u001b[0m\u001b[0;34m)\u001b[0m\u001b[0;34m\u001b[0m\u001b[0;34m\u001b[0m\u001b[0m\n",
            "\u001b[0;31mNameError\u001b[0m: name 'Image' is not defined"
          ]
        }
      ]
    },
    {
      "cell_type": "markdown",
      "source": [
        "Q3: What was the result after reversing the captions on test images? Explain or comment the result. [same thing happend here]"
      ],
      "metadata": {
        "id": "ioxw70aSZgl0"
      }
    },
    {
      "cell_type": "markdown",
      "source": [
        "### Experiment 4: transfer learning"
      ],
      "metadata": {
        "id": "MCoIF5qlajTD"
      }
    },
    {
      "cell_type": "code",
      "source": [
        "base_model = tf.keras.applications.ResNet50(include_top=False)\n",
        "base_model.trainable = False\n",
        "\n",
        "def make_pretrained_model(base_model):\n",
        "    inputs = tf.keras.Input(shape=(224, 224, 3))\n",
        "    x = base_model(inputs, training=False)\n",
        "    x = layers.GlobalAveragePooling2D()(x)\n",
        "    outputs = layers.Dense(2)(x)\n",
        "    model = tf.keras.Model(inputs, outputs)\n",
        "    return model\n",
        "\n",
        "model4 = make_pretrained_model(base_model)"
      ],
      "metadata": {
        "id": "YSkr9bpWanzL",
        "colab": {
          "base_uri": "https://localhost:8080/",
          "height": 245
        },
        "outputId": "5f1061d7-4ff8-4a6c-9b26-7634352adcc6"
      },
      "execution_count": 14,
      "outputs": [
        {
          "output_type": "error",
          "ename": "NameError",
          "evalue": "ignored",
          "traceback": [
            "\u001b[0;31m---------------------------------------------------------------------------\u001b[0m",
            "\u001b[0;31mNameError\u001b[0m                                 Traceback (most recent call last)",
            "\u001b[0;32m<ipython-input-14-22cd66ae7271>\u001b[0m in \u001b[0;36m<cell line: 1>\u001b[0;34m()\u001b[0m\n\u001b[0;32m----> 1\u001b[0;31m \u001b[0mbase_model\u001b[0m \u001b[0;34m=\u001b[0m \u001b[0mtf\u001b[0m\u001b[0;34m.\u001b[0m\u001b[0mkeras\u001b[0m\u001b[0;34m.\u001b[0m\u001b[0mapplications\u001b[0m\u001b[0;34m.\u001b[0m\u001b[0mResNet50\u001b[0m\u001b[0;34m(\u001b[0m\u001b[0minclude_top\u001b[0m\u001b[0;34m=\u001b[0m\u001b[0;32mFalse\u001b[0m\u001b[0;34m)\u001b[0m\u001b[0;34m\u001b[0m\u001b[0;34m\u001b[0m\u001b[0m\n\u001b[0m\u001b[1;32m      2\u001b[0m \u001b[0mbase_model\u001b[0m\u001b[0;34m.\u001b[0m\u001b[0mtrainable\u001b[0m \u001b[0;34m=\u001b[0m \u001b[0;32mFalse\u001b[0m\u001b[0;34m\u001b[0m\u001b[0;34m\u001b[0m\u001b[0m\n\u001b[1;32m      3\u001b[0m \u001b[0;34m\u001b[0m\u001b[0m\n\u001b[1;32m      4\u001b[0m \u001b[0;32mdef\u001b[0m \u001b[0mmake_pretrained_model\u001b[0m\u001b[0;34m(\u001b[0m\u001b[0mbase_model\u001b[0m\u001b[0;34m)\u001b[0m\u001b[0;34m:\u001b[0m\u001b[0;34m\u001b[0m\u001b[0;34m\u001b[0m\u001b[0m\n\u001b[1;32m      5\u001b[0m     \u001b[0minputs\u001b[0m \u001b[0;34m=\u001b[0m \u001b[0mtf\u001b[0m\u001b[0;34m.\u001b[0m\u001b[0mkeras\u001b[0m\u001b[0;34m.\u001b[0m\u001b[0mInput\u001b[0m\u001b[0;34m(\u001b[0m\u001b[0mshape\u001b[0m\u001b[0;34m=\u001b[0m\u001b[0;34m(\u001b[0m\u001b[0;36m224\u001b[0m\u001b[0;34m,\u001b[0m \u001b[0;36m224\u001b[0m\u001b[0;34m,\u001b[0m \u001b[0;36m3\u001b[0m\u001b[0;34m)\u001b[0m\u001b[0;34m)\u001b[0m\u001b[0;34m\u001b[0m\u001b[0;34m\u001b[0m\u001b[0m\n",
            "\u001b[0;31mNameError\u001b[0m: name 'tf' is not defined"
          ]
        }
      ]
    },
    {
      "cell_type": "markdown",
      "source": [
        "Q4: The ResNet50 model was trained with \"Cat\" and \"Dog\" captions placed correctly and tested with the captions reversed like in experiment 3. What happened? Explain or comment the result. [I don't know why it throws an error and im to tired to try to figure it out]"
      ],
      "metadata": {
        "id": "k8qqnD3-f_eg"
      }
    }
  ],
  "metadata": {
    "accelerator": "GPU",
    "colab": {
      "collapsed_sections": [
        "x4HI2mpwlrcn"
      ],
      "provenance": [],
      "gpuType": "T4"
    },
    "kernelspec": {
      "display_name": "Python 3",
      "name": "python3"
    }
  },
  "nbformat": 4,
  "nbformat_minor": 0
}